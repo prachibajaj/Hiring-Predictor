{
 "cells": [
  {
   "cell_type": "code",
   "execution_count": 50,
   "metadata": {
    "collapsed": false,
    "deletable": true,
    "editable": true
   },
   "outputs": [],
   "source": [
    "import numpy as np\n",
    "import pandas as pd\n",
    "import statsmodels.api as sm\n",
    "import matplotlib.pyplot as plt\n",
    "from patsy import dmatrices\n",
    "from sklearn.ensemble import RandomForestClassifier\n",
    "from sklearn.linear_model import LogisticRegression\n",
    "from sklearn.cross_validation import train_test_split\n",
    "from sklearn import metrics\n",
    "from sklearn.cross_validation import cross_val_score\n",
    "from sklearn import tree"
   ]
  },
  {
   "cell_type": "code",
   "execution_count": 52,
   "metadata": {
    "collapsed": false,
    "deletable": true,
    "editable": true
   },
   "outputs": [
    {
     "name": "stdout",
     "output_type": "stream",
     "text": [
      "a\n",
      "0\n",
      "0\n"
     ]
    }
   ],
   "source": [
    "'''ef logistic():\n",
    "    dt = pd.read_csv(\"new_job_data.csv\")\n",
    "    y, X = dmatrices('Hired ~ PERCENTAGE + BACKLOG + INTERNSHIP + FIRSTROUND + COMMUNICATIONSKILLLS',dt,return_type='dataframe')\n",
    "    model = LogisticRegression()\n",
    "    model = model.fit(X,y)\n",
    "    print('a')\n",
    "    print(perc.get())\n",
    "    model.predict(np.array([1,75,1,2,80,92]).reshape(1,-1))\n",
    "    #model.predict(np.array([0,perc.get(),back.get(),intern.get(),firstr.get(),comm.get()]).reshape(1,-1))\n",
    "    print('a')'''\n",
    "    \n",
    "def result():\n",
    "    print('a')\n",
    "    df  = pd.read_csv(\"new_job_data.csv\")\n",
    "    features = list(df.columns[1:6])\n",
    "    y = df['Hired']\n",
    "    X = df[features]\n",
    "    clf = tree.DecisionTreeClassifier()\n",
    "    dtree = LogisticRegression()\n",
    "    rfor = RandomForestClassifier(n_estimators = 8)\n",
    "    clf = clf.fit(X,y)\n",
    "    dtree = dtree.fit(X,y)\n",
    "    rfor = rfor.fit(X,y)\n",
    "    #outcome = []\n",
    "    a = clf.predict([[perc.get(),back.get(),intern.get(),firstr.get(),comm.get()]])\n",
    "    print(a[0])\n",
    "    #b = dtree.predict([[perc.get(),back.get(),intern.get(),firstr.get(),comm.get()]])\n",
    "    #print(b[0])\n",
    "    c = rfor.predict([[perc.get(),back.get(),intern.get(),firstr.get(),comm.get()]])\n",
    "    print(c[0])\n",
    "    #for item in outcome:\n",
    "     #   print(item)\n",
    "    #print('a')\n",
    "    print1(a,c)\n",
    "    \n",
    "def print1(a,c):\n",
    "    if a[0]==1:\n",
    "        l13 = Label(root,text = 'Hired',height = 2,fg='white',bg='black')\n",
    "        l13.grid(row = 8,column = 3,sticky = 'w')\n",
    "        l14 = Label(root,text = 'Hired',height = 2,fg='white',bg='black')\n",
    "        l14.grid(row = 9,column = 3,sticky = 'w')\n",
    "    elif a[0]==0:\n",
    "        l13 = Label(root,text = 'Not hired',height = 2,fg='white',bg='black')\n",
    "        l13.grid(row = 8,column = 3,sticky = 'w')\n",
    "        l14 = Label(root,text = 'Not Hired',height = 2,fg='white',bg='black')\n",
    "        l14.grid(row = 9,column = 3,sticky = 'w')\n",
    "    if c[0]==1:\n",
    "        l15 = Label(root,text = 'Hired',height = 2,fg='white',bg='black')\n",
    "        l15.grid(row = 10,column = 3,sticky = 'w')\n",
    "    elif c[0]==0:\n",
    "        l15 = Label(root,text = 'Not Hired',height = 2,fg='white',bg='black')\n",
    "        l15.grid(row = 10,column = 3,sticky = 'w')\n",
    "from tkinter import *\n",
    "\n",
    "root = Tk()\n",
    "#root = Toplevel()\n",
    "root.title('JOB PREDICTOR')\n",
    "root.geometry('600x600')\n",
    "root.config(bg = 'black')\n",
    "\n",
    "logo = PhotoImage(file='img.gif')\n",
    "\n",
    "l1 = Label(root,text = 'Nucleus Computers Ltd',width=35,font=('Helvetica',16,'bold'),padx = 8,fg='white',bg='black')\n",
    "l1.grid(row = 0,columnspan = 10)\n",
    "l2 = Label(root, image= logo,bg = 'black')     \n",
    "l2.grid(row = 0,column = 11)\n",
    "\n",
    "l3 = Label(root,text = 'NAME',width = 20,height = 3,fg='white',bg='black')\n",
    "l3.grid(row = 1,column = 1,sticky = 'e')\n",
    "l4 = Label(root,text = 'PERCENTAGE',width = 20,height = 3,fg='white',bg='black')\n",
    "l4.grid(row = 2,column = 1,sticky = 'e')\n",
    "l5 = Label(root,text = 'BACKLOG',width = 20,height = 3,fg='white',bg='black')\n",
    "l5.grid(row = 3,column = 1,sticky = 'e')\n",
    "l6 = Label(root,text = 'INTERNSHIPS',width = 20,height = 3,fg='white',bg='black')\n",
    "l6.grid(row = 4,column = 1,sticky = 'e')\n",
    "l7 = Label(root,text = 'FIRST ROUND',width = 20,height = 3,fg='white',bg='black')\n",
    "l7.grid(row = 5,column = 1,sticky = 'e')\n",
    "l8 = Label(root,text = 'COMMUNICATION SKILLS',width = 20,height = 3,fg='white',bg='black')\n",
    "l8.grid(row = 6,column = 1,sticky = 'e')\n",
    "l9 = Label(root,text = 'RESULT',height = 4,fg='white',bg='black')\n",
    "l9.grid(row = 7,column = 2,sticky = 'e')\n",
    "l10 = Label(root,text = 'Logistic',height = 2,fg='white',bg='black')\n",
    "l10.grid(row = 8,column = 1,sticky = 'w')\n",
    "l11 = Label(root,text = 'Decision Tree',height = 2,fg='white',bg='black')\n",
    "l11.grid(row = 9,column = 1,sticky = 'w')\n",
    "l12 = Label(root,text = 'Random Forest',height = 2,fg='white',bg='black')\n",
    "l12.grid(row = 10,column = 1,sticky = 'w')\n",
    "\n",
    "\n",
    "perc = StringVar()\n",
    "back = StringVar()\n",
    "intern = StringVar()\n",
    "firstr = StringVar()\n",
    "comm = StringVar()\n",
    "\n",
    "e1 = Entry(root)\n",
    "e1.grid(row = 1,column = 9)\n",
    "e2 = Entry(root,textvariable=perc)\n",
    "e2.grid(row = 2,column = 9)\n",
    "e3 = Entry(root,textvariable=back)\n",
    "e3.grid(row = 3,column = 9)\n",
    "e4 = Entry(root,textvariable=intern)\n",
    "e4.grid(row = 4,column = 9)\n",
    "e5 = Entry(root,textvariable=firstr)\n",
    "e5.grid(row = 5,column = 9)\n",
    "e6 = Entry(root,textvariable=comm)\n",
    "e6.grid(row = 6,column = 9)\n",
    "\n",
    "b1 = Button(root,text = 'RESULT',width = 12,command = result)\n",
    "b1.grid(row = 2,column = 11)\n",
    "'''b2 = Button(root,text = 'Decision Tree',width = 12)\n",
    "b2.grid(row = 3,column = 11)\n",
    "b3 = Button(root,text = 'Random Forest',width = 12)\n",
    "b3.grid(row = 4,column = 11)\n",
    "b4 = Button(root,text = 'SVC',width = 12)\n",
    "b4.grid(row = 5,column = 11)'''\n",
    "\n",
    "root.mainloop()"
   ]
  },
  {
   "cell_type": "code",
   "execution_count": null,
   "metadata": {
    "collapsed": false,
    "deletable": true,
    "editable": true
   },
   "outputs": [],
   "source": [
    "#load dataset\n",
    "dt = pd.read_csv(\"new_job_data.csv\")\n",
    "dt.head(10)"
   ]
  },
  {
   "cell_type": "code",
   "execution_count": null,
   "metadata": {
    "collapsed": false,
    "deletable": true,
    "editable": true
   },
   "outputs": [],
   "source": [
    "#dt.groupby('COMMUNICATIONSKILLLS').mean()"
   ]
  },
  {
   "cell_type": "code",
   "execution_count": null,
   "metadata": {
    "collapsed": false,
    "deletable": true,
    "editable": true
   },
   "outputs": [],
   "source": [
    "y, X = dmatrices('Hired ~ PERCENTAGE + BACKLOG + INTERNSHIP + FIRSTROUND + COMMUNICATIONSKILLLS',dt,return_type='dataframe')\n",
    "#print(X.columns)"
   ]
  },
  {
   "cell_type": "code",
   "execution_count": null,
   "metadata": {
    "collapsed": false,
    "deletable": true,
    "editable": true
   },
   "outputs": [],
   "source": [
    "model = LogisticRegression()\n",
    "model = model.fit(X,y)\n",
    "#model.score(X,y)"
   ]
  },
  {
   "cell_type": "code",
   "execution_count": null,
   "metadata": {
    "collapsed": false,
    "deletable": true,
    "editable": true
   },
   "outputs": [],
   "source": [
    "#model.predict_proba(np.array([0,54,3,1,61,70]).reshape(1,-1))"
   ]
  },
  {
   "cell_type": "code",
   "execution_count": null,
   "metadata": {
    "collapsed": false,
    "deletable": true,
    "editable": true
   },
   "outputs": [],
   "source": [
    "model.predict(np.array([1,75,1,2,80,92]).reshape(1,-1))"
   ]
  },
  {
   "cell_type": "code",
   "execution_count": null,
   "metadata": {
    "collapsed": true,
    "deletable": true,
    "editable": true
   },
   "outputs": [],
   "source": []
  },
  {
   "cell_type": "code",
   "execution_count": null,
   "metadata": {
    "collapsed": true,
    "deletable": true,
    "editable": true
   },
   "outputs": [],
   "source": []
  }
 ],
 "metadata": {
  "kernelspec": {
   "display_name": "Python 3",
   "language": "python",
   "name": "python3"
  },
  "language_info": {
   "codemirror_mode": {
    "name": "ipython",
    "version": 3
   },
   "file_extension": ".py",
   "mimetype": "text/x-python",
   "name": "python",
   "nbconvert_exporter": "python",
   "pygments_lexer": "ipython3",
   "version": "3.5.2"
  }
 },
 "nbformat": 4,
 "nbformat_minor": 2
}
